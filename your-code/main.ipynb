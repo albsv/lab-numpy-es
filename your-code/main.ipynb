{
 "cells": [
  {
   "cell_type": "code",
   "execution_count": 2,
   "id": "d8d4a0de-ea44-4ae4-90a5-53579dee82f4",
   "metadata": {},
   "outputs": [
    {
     "name": "stdout",
     "output_type": "stream",
     "text": [
      "1.26.4\n"
     ]
    }
   ],
   "source": [
    "#1. Importa el paquete NUMPY bajo el nombre np.\n",
    "import numpy as np\n",
    "\n",
    "#2. Imprime la versión de NUMPY y la configuración.\n",
    "print(np.__version__)"
   ]
  },
  {
   "cell_type": "markdown",
   "id": "dc027863-38a6-456b-a761-6aa87ada5dbc",
   "metadata": {},
   "source": [
    "#3. Genera un array tridimensional de 2x3x5 con valores aleatorios. Asigna el array a la variable \"a\"\n",
    "\n",
    "Desafío: hay al menos tres maneras fáciles que usan numpy para generar arrays aleatorios. ¿Cuántas formas puedes encontrar?"
   ]
  },
  {
   "cell_type": "code",
   "execution_count": 3,
   "id": "6c1f97ee-d1c4-45c3-aa33-76f7a7ded37b",
   "metadata": {},
   "outputs": [
    {
     "name": "stdout",
     "output_type": "stream",
     "text": [
      "[[[0.59148553 0.43935286 0.4655509  0.70928217 0.96116432]\n",
      "  [0.50102742 0.48556397 0.13443505 0.96978664 0.25473508]\n",
      "  [0.27158613 0.09806125 0.90563585 0.00452989 0.81280366]]\n",
      "\n",
      " [[0.3362974  0.97546318 0.00506078 0.72137237 0.24946827]\n",
      "  [0.90718425 0.20174529 0.26809433 0.74590181 0.91986297]\n",
      "  [0.41958045 0.33574184 0.12658451 0.53106393 0.7363637 ]]]\n"
     ]
    }
   ],
   "source": [
    "a = np.random.random((2, 3, 5))\n",
    "print(a)"
   ]
  },
  {
   "cell_type": "markdown",
   "id": "a8a20ae0-bbf9-4295-b011-ee8d0309dc1e",
   "metadata": {},
   "source": [
    "#5. Crea un array tridimensional de 5x2x3 con todos los valores igual a 1.\n",
    "#Asigna el array a la variable \"b\""
   ]
  },
  {
   "cell_type": "code",
   "execution_count": 4,
   "id": "a85eaa75-6830-401b-94e8-3cc408a1a5c1",
   "metadata": {},
   "outputs": [
    {
     "name": "stdout",
     "output_type": "stream",
     "text": [
      "[[[1. 1. 1.]\n",
      "  [1. 1. 1.]]\n",
      "\n",
      " [[1. 1. 1.]\n",
      "  [1. 1. 1.]]\n",
      "\n",
      " [[1. 1. 1.]\n",
      "  [1. 1. 1.]]\n",
      "\n",
      " [[1. 1. 1.]\n",
      "  [1. 1. 1.]]\n",
      "\n",
      " [[1. 1. 1.]\n",
      "  [1. 1. 1.]]]\n"
     ]
    }
   ],
   "source": [
    "b = np.ones((5, 2, 3))\n",
    "print(b)"
   ]
  },
  {
   "cell_type": "markdown",
   "id": "58a76478-1832-4fab-83df-d7b1d2afeb95",
   "metadata": {},
   "source": [
    "#7. ¿Tienen a y b el mismo tamaño? ¿Cómo lo demuestras en código Python?"
   ]
  },
  {
   "cell_type": "code",
   "execution_count": 6,
   "id": "0328a43b-a81f-4917-9a7f-e70d4c219a78",
   "metadata": {},
   "outputs": [
    {
     "name": "stdout",
     "output_type": "stream",
     "text": [
      "True\n"
     ]
    }
   ],
   "source": [
    "array_sizes = a.size == b.size\n",
    "print(array_sizes)"
   ]
  },
  {
   "cell_type": "markdown",
   "id": "459a3d85-3d7c-442e-ace4-3fb8cb54ec1d",
   "metadata": {},
   "source": [
    "#8. ¿Es posible sumar a y b? ¿Por qué sí o por qué no?"
   ]
  },
  {
   "cell_type": "code",
   "execution_count": 8,
   "id": "e9910961-c0ec-462a-af2a-e41ab26b7429",
   "metadata": {},
   "outputs": [],
   "source": [
    "#No es posible porque tienen el mismo tamaño pero no la misma forma"
   ]
  },
  {
   "cell_type": "markdown",
   "id": "c190c796-dd28-4388-a2dc-edec1113fedf",
   "metadata": {},
   "source": [
    "#9. Transpone b para que tenga la misma estructura que a (es decir, se convierta en un array de 2x3x5). Asigna el array transpuesto a la variable \"c\"."
   ]
  },
  {
   "cell_type": "code",
   "execution_count": 10,
   "id": "d95924cf-0b76-495e-9ce4-96f394ad09dd",
   "metadata": {},
   "outputs": [
    {
     "name": "stdout",
     "output_type": "stream",
     "text": [
      "[[[1. 1. 1. 1. 1.]\n",
      "  [1. 1. 1. 1. 1.]\n",
      "  [1. 1. 1. 1. 1.]]\n",
      "\n",
      " [[1. 1. 1. 1. 1.]\n",
      "  [1. 1. 1. 1. 1.]\n",
      "  [1. 1. 1. 1. 1.]]]\n"
     ]
    }
   ],
   "source": [
    "c = np.transpose(b, (1, 2, 0))\n",
    "print(c)"
   ]
  },
  {
   "cell_type": "markdown",
   "id": "d9eb7e07-5c38-4a33-a0f8-fbd29f37a88c",
   "metadata": {},
   "source": [
    "#10. Intenta sumar a y c. Ahora debería funcionar. Asigna la suma a la variable \"d\". Pero, ¿por qué funciona ahora?"
   ]
  },
  {
   "cell_type": "code",
   "execution_count": 11,
   "id": "caf18cfa-53fb-4d03-b371-8051da8b8aae",
   "metadata": {},
   "outputs": [
    {
     "name": "stdout",
     "output_type": "stream",
     "text": [
      "[[[1.59148553 1.43935286 1.4655509  1.70928217 1.96116432]\n",
      "  [1.50102742 1.48556397 1.13443505 1.96978664 1.25473508]\n",
      "  [1.27158613 1.09806125 1.90563585 1.00452989 1.81280366]]\n",
      "\n",
      " [[1.3362974  1.97546318 1.00506078 1.72137237 1.24946827]\n",
      "  [1.90718425 1.20174529 1.26809433 1.74590181 1.91986297]\n",
      "  [1.41958045 1.33574184 1.12658451 1.53106393 1.7363637 ]]]\n"
     ]
    }
   ],
   "source": [
    "#Funciona porque tienen la misma forma\n",
    "d = a + c\n",
    "print(d)"
   ]
  },
  {
   "cell_type": "markdown",
   "id": "afd284d2-2122-435a-bbcc-a24d7a34c7de",
   "metadata": {},
   "source": [
    "#11. Imprime a y d. ¿Notas la diferencia y la relación entre los dos arrays en términos de los valores? Explica."
   ]
  },
  {
   "cell_type": "code",
   "execution_count": 12,
   "id": "fe287b22-bd4e-453f-99fc-92aa78940530",
   "metadata": {},
   "outputs": [],
   "source": [
    "#La suma es cada posición más 1 porque el array c son solo unos"
   ]
  },
  {
   "cell_type": "markdown",
   "id": "d28c9f49-0afa-472f-b3f9-32b2d2541a86",
   "metadata": {},
   "source": [
    "#12. Multiplica a y c. Asigna el resultado a e.\n"
   ]
  },
  {
   "cell_type": "code",
   "execution_count": 13,
   "id": "c6701ae2-fa9d-4087-87c0-2fb9a719d918",
   "metadata": {},
   "outputs": [
    {
     "name": "stdout",
     "output_type": "stream",
     "text": [
      "[[[0.59148553 0.43935286 0.4655509  0.70928217 0.96116432]\n",
      "  [0.50102742 0.48556397 0.13443505 0.96978664 0.25473508]\n",
      "  [0.27158613 0.09806125 0.90563585 0.00452989 0.81280366]]\n",
      "\n",
      " [[0.3362974  0.97546318 0.00506078 0.72137237 0.24946827]\n",
      "  [0.90718425 0.20174529 0.26809433 0.74590181 0.91986297]\n",
      "  [0.41958045 0.33574184 0.12658451 0.53106393 0.7363637 ]]]\n"
     ]
    }
   ],
   "source": [
    "e = a * c\n",
    "print(e)"
   ]
  },
  {
   "cell_type": "markdown",
   "id": "27c11d5b-9a77-40c0-ae35-73ce3d23ad17",
   "metadata": {},
   "source": [
    "#13. ¿Es e igual a a? ¿Por qué sí o por qué no?"
   ]
  },
  {
   "cell_type": "code",
   "execution_count": 14,
   "id": "0f7c7fbe-bc4a-4fcd-9890-4b73afa1bd70",
   "metadata": {},
   "outputs": [],
   "source": [
    "#si es igual, porque al multiplicar cada posición por 1, nos devuelve el mismo valor "
   ]
  },
  {
   "cell_type": "markdown",
   "id": "7d960334-ee1c-4545-8eca-1ba764ec711f",
   "metadata": {},
   "source": [
    "#14. Identifica los valores máximos, mínimos y medios en d. Asigna esos valores a las variables \"d_max\", \"d_min\" y \"d_mean\""
   ]
  },
  {
   "cell_type": "code",
   "execution_count": 15,
   "id": "1cce10df-8ead-4444-b7a2-a97cdb918e2d",
   "metadata": {},
   "outputs": [
    {
     "name": "stdout",
     "output_type": "stream",
     "text": [
      "1.9754631750924936\n",
      "1.004529893664254\n",
      "1.5028261936203753\n"
     ]
    }
   ],
   "source": [
    "d_max = np.max(d)\n",
    "d_min = np.min(d)\n",
    "d_mean = np.mean(d)\n",
    "\n",
    "print(d_max)\n",
    "print(d_min)\n",
    "print(d_mean)"
   ]
  },
  {
   "cell_type": "markdown",
   "id": "133fa6c7-b2fc-4c02-9a29-19dbd4d50198",
   "metadata": {},
   "source": [
    "#15. Ahora queremos etiquetar los valores en d. Primero crea un array vacío \"f\" con la misma forma (es decir, 2x3x5) que d usando `np.empty`."
   ]
  },
  {
   "cell_type": "code",
   "execution_count": 16,
   "id": "f38162a9-57a1-47fa-a9fa-52eb8874776b",
   "metadata": {},
   "outputs": [
    {
     "name": "stdout",
     "output_type": "stream",
     "text": [
      "[[[0.59148553 0.43935286 0.4655509  0.70928217 0.96116432]\n",
      "  [0.50102742 0.48556397 0.13443505 0.96978664 0.25473508]\n",
      "  [0.27158613 0.09806125 0.90563585 0.00452989 0.81280366]]\n",
      "\n",
      " [[0.3362974  0.97546318 0.00506078 0.72137237 0.24946827]\n",
      "  [0.90718425 0.20174529 0.26809433 0.74590181 0.91986297]\n",
      "  [0.41958045 0.33574184 0.12658451 0.53106393 0.7363637 ]]]\n"
     ]
    }
   ],
   "source": [
    "f = np.empty(d.shape)\n",
    "print(f)"
   ]
  },
  {
   "cell_type": "markdown",
   "id": "89d4df84-aed4-47c8-9dc5-b0729f93f2cc",
   "metadata": {},
   "source": [
    "#16. Rellena los valores en f. Para cada valor en d, si es mayor que d_min pero menor que d_mean, asigna 25 al valor correspondiente en f.\n",
    "Si un valor en d es mayor que d_mean pero menor que d_max, asigna 75 al valor correspondiente en f.\n",
    "Si un valor es igual a d_mean, asigna 50 al valor correspondiente en f.\n",
    "Asigna 0 al valor correspondiente(s) en f para d_min en d.\n",
    "Asigna 100 al valor correspondiente(s) en f para d_max en d.\n",
    "Al final, f debería tener solo los siguientes valores: 0, 25, 50, 75 y 100.\n",
    "Nota: no necesitas usar Numpy en esta pregunta."
   ]
  },
  {
   "cell_type": "code",
   "execution_count": 18,
   "id": "e206469c-4440-42a6-8285-70870e4c776f",
   "metadata": {},
   "outputs": [
    {
     "name": "stdout",
     "output_type": "stream",
     "text": [
      "[[[ 75.  25.  25.  75.  75.]\n",
      "  [ 25.  25.  25.  75.  25.]\n",
      "  [ 25.  25.  75.   0.  75.]]\n",
      "\n",
      " [[ 25. 100.  25.  75.  25.]\n",
      "  [ 75.  25.  25.  75.  75.]\n",
      "  [ 25.  25.  25.  75.  75.]]]\n"
     ]
    }
   ],
   "source": [
    "for i in range(d.shape[0]):        \n",
    "    for j in range(d.shape[1]):    \n",
    "        for k in range(d.shape[2]):  \n",
    "            if d[i, j, k] == d_min:\n",
    "                f[i, j, k] = 0\n",
    "            elif d[i, j, k] == d_mean:\n",
    "                f[i, j, k] = 50\n",
    "            elif d[i, j, k] > d_mean and d[i, j, k] < d_max:\n",
    "                f[i, j, k] = 75\n",
    "            elif d[i, j, k] > d_min and d[i, j, k] < d_mean:\n",
    "                f[i, j, k] = 25\n",
    "            elif d[i, j, k] == d_max:\n",
    "                f[i, j, k] = 100\n",
    "\n",
    "print(f)"
   ]
  },
  {
   "cell_type": "markdown",
   "id": "d104aabd-c895-49de-8aa7-144a61631305",
   "metadata": {},
   "source": [
    "#17. Imprime d y f. ¿Tienes el f esperado?\n",
    "Por ejemplo, si tu d es:\n",
    "array([[[1.85836099, 1.67064465, 1.62576044, 1.40243961, 1.88454931],\n",
    "        [1.75354326, 1.69403643, 1.36729252, 1.61415071, 1.12104981],\n",
    "        [1.72201435, 1.1862918 , 1.87078449, 1.7726778 , 1.88180042]],\n",
    "\n",
    "       [[1.44747908, 1.31673383, 1.02000951, 1.52218947, 1.97066381],\n",
    "        [1.79129243, 1.74983003, 1.96028037, 1.85166831, 1.65450881],\n",
    "        [1.18068344, 1.9587381 , 1.00656599, 1.93402165, 1.73514584]]])\n",
    "\n",
    "Tu f debería ser:\n",
    "array([[[ 75.,  75.,  75.,  25.,  75.],\n",
    "        [ 75.,  75.,  25.,  25.,  25.],\n",
    "        [ 75.,  25.,  75.,  75.,  75.]],\n",
    "\n",
    "       [[ 25.,  25.,  25.,  25., 100.],\n",
    "        [ 75.,  75.,  75.,  75.,  75.],\n",
    "        [ 25.,  75.,   0.,  75.,  75.]]])\n"
   ]
  },
  {
   "cell_type": "markdown",
   "id": "c48a4b39-c2b2-4465-a7fc-3b95e198c0cd",
   "metadata": {},
   "source": [
    "#18. Pregunta de bonificación: en lugar de usar números (es decir, 0, 25, 50, 75 y 100), ¿cómo usar valores de cadena \n",
    "(\"A\", \"B\", \"C\", \"D\" y \"E\") para etiquetar los elementos del array? Esperas el resultado sea:\n",
    "array([[[ 'D',  'D',  'D',  'B',  'D'],\n",
    "        [ 'D',  'D',  'B',  'B',  'B'],\n",
    "        [ 'D',  'B',  'D',  'D',  'D']],\n",
    "\n",
    "       [[ 'B',  'B',  'B',  'B',  'E'],\n",
    "        [ 'D',  'D',  'D',  'D',  'D'],\n",
    "        [ 'B',  'D',   'A',  'D', 'D']]])\n",
    "De nuevo, no necesitas Numpy en esta pregunta."
   ]
  },
  {
   "cell_type": "code",
   "execution_count": 19,
   "id": "01c194e7-374b-4809-8d88-752027cedbc9",
   "metadata": {},
   "outputs": [
    {
     "ename": "ValueError",
     "evalue": "could not convert string to float: 'E'",
     "output_type": "error",
     "traceback": [
      "\u001b[1;31m---------------------------------------------------------------------------\u001b[0m",
      "\u001b[1;31mValueError\u001b[0m                                Traceback (most recent call last)",
      "Cell \u001b[1;32mIn[19], line 9\u001b[0m\n\u001b[0;32m      7\u001b[0m     f[i, j, k] \u001b[38;5;241m=\u001b[39m \u001b[38;5;124m\"\u001b[39m\u001b[38;5;124mC\u001b[39m\u001b[38;5;124m\"\u001b[39m  \n\u001b[0;32m      8\u001b[0m \u001b[38;5;28;01melif\u001b[39;00m d[i, j, k] \u001b[38;5;241m>\u001b[39m d_mean \u001b[38;5;129;01mand\u001b[39;00m d[i, j, k] \u001b[38;5;241m<\u001b[39m d_max:\n\u001b[1;32m----> 9\u001b[0m     f[i, j, k] \u001b[38;5;241m=\u001b[39m \u001b[38;5;124m\"\u001b[39m\u001b[38;5;124mE\u001b[39m\u001b[38;5;124m\"\u001b[39m  \n\u001b[0;32m     10\u001b[0m \u001b[38;5;28;01melif\u001b[39;00m d[i, j, k] \u001b[38;5;241m>\u001b[39m d_min \u001b[38;5;129;01mand\u001b[39;00m d[i, j, k] \u001b[38;5;241m<\u001b[39m d_mean:\n\u001b[0;32m     11\u001b[0m     f[i, j, k] \u001b[38;5;241m=\u001b[39m \u001b[38;5;124m\"\u001b[39m\u001b[38;5;124mB\u001b[39m\u001b[38;5;124m\"\u001b[39m  \n",
      "\u001b[1;31mValueError\u001b[0m: could not convert string to float: 'E'"
     ]
    }
   ],
   "source": [
    "for i in range(d.shape[0]):        \n",
    "    for j in range(d.shape[1]):    \n",
    "        for k in range(d.shape[2]):  \n",
    "            if d[i, j, k] == d_min:\n",
    "                f[i, j, k] = \"A\"  \n",
    "            elif d[i, j, k] == d_mean:\n",
    "                f[i, j, k] = \"C\"  \n",
    "            elif d[i, j, k] > d_mean and d[i, j, k] < d_max:\n",
    "                f[i, j, k] = \"E\"  \n",
    "            elif d[i, j, k] > d_min and d[i, j, k] < d_mean:\n",
    "                f[i, j, k] = \"B\"  \n",
    "            elif d[i, j, k] == d_max:\n",
    "                f[i, j, k] = \"D\"\n",
    "\n",
    "print(f)"
   ]
  }
 ],
 "metadata": {
  "kernelspec": {
   "display_name": "Python 3 (ipykernel)",
   "language": "python",
   "name": "python3"
  },
  "language_info": {
   "codemirror_mode": {
    "name": "ipython",
    "version": 3
   },
   "file_extension": ".py",
   "mimetype": "text/x-python",
   "name": "python",
   "nbconvert_exporter": "python",
   "pygments_lexer": "ipython3",
   "version": "3.11.7"
  }
 },
 "nbformat": 4,
 "nbformat_minor": 5
}
